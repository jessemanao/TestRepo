{
 "cells": [
  {
   "cell_type": "markdown",
   "id": "182f7fee-598c-4aeb-8cea-2b9529361394",
   "metadata": {},
   "source": [
    "# Data Science Tools and Ecosystem"
   ]
  },
  {
   "cell_type": "markdown",
   "id": "e591fbbe-a327-4a6f-8143-033fd2fdb222",
   "metadata": {},
   "source": [
    "In this notebook, Data Science Tools and Ecosystem are summarized."
   ]
  },
  {
   "cell_type": "markdown",
   "id": "f2982253-362c-41c7-818f-4c96bc969b88",
   "metadata": {},
   "source": [
    "**Objectives:**"
   ]
  },
  {
   "cell_type": "markdown",
   "id": "f98a0498-af0c-40cd-b857-363d1ccdc9a9",
   "metadata": {},
   "source": [
    "- List popular languages for Data Science\n",
    "- List common libraries used for Data Science\n",
    "- List Data Science tools / environment\n",
    "- Execute arithmetic expressions in Python"
   ]
  },
  {
   "cell_type": "markdown",
   "id": "c7f6d1be-a03d-4f5a-9d0c-cdb825b44077",
   "metadata": {},
   "source": [
    "Some of the popular languages that Data Scientists use are:"
   ]
  },
  {
   "cell_type": "markdown",
   "id": "0eebd1d9-4473-40aa-ad5c-4bd6228347e7",
   "metadata": {},
   "source": [
    "1. Python\n",
    "2. R\n",
    "3. SQL"
   ]
  },
  {
   "cell_type": "markdown",
   "id": "33a4e7e6-47c8-4186-b958-2c1c10313672",
   "metadata": {},
   "source": [
    "Some of the commonly used libraries used by Data Scientists include:"
   ]
  },
  {
   "cell_type": "markdown",
   "id": "225a4c20-5b58-484c-af39-9b122a218129",
   "metadata": {},
   "source": [
    "- Matplotlib\n",
    "- Pandas\n",
    "- TensorFlow"
   ]
  },
  {
   "cell_type": "markdown",
   "id": "c9528165-da9d-41be-b416-6ffc6e0487e4",
   "metadata": {},
   "source": [
    "| **Data Science Tools** |\n",
    "| ------ |\n",
    "| Jupyter Notebook |\n",
    "| R Studio |\n",
    "| Github |"
   ]
  },
  {
   "cell_type": "markdown",
   "id": "7588e2a3-48a9-42ae-80de-3641a32edc42",
   "metadata": {},
   "source": [
    "### Below are a few examples of evaluating arithmetic expressions in Python"
   ]
  },
  {
   "cell_type": "markdown",
   "id": "56e5ad0f-26b0-4840-9d02-f534fe706bfc",
   "metadata": {},
   "source": [
    "This is a simple arithmetic expression to multiply then add integers"
   ]
  },
  {
   "cell_type": "code",
   "execution_count": 21,
   "id": "9d9c6b96-70d7-44c7-bdf3-e2be629e39a1",
   "metadata": {},
   "outputs": [
    {
     "data": {
      "text/plain": [
       "17"
      ]
     },
     "execution_count": 21,
     "metadata": {},
     "output_type": "execute_result"
    }
   ],
   "source": [
    "(3*4)+5"
   ]
  },
  {
   "cell_type": "markdown",
   "id": "fc2553cd-2039-4894-8d32-5f87350d4f6b",
   "metadata": {},
   "source": [
    "This will convert 200 minutes to hours by dividing by 60"
   ]
  },
  {
   "cell_type": "code",
   "execution_count": 24,
   "id": "dc24d6dc-5929-40aa-9e89-b132aa018d54",
   "metadata": {},
   "outputs": [
    {
     "data": {
      "text/plain": [
       "3.3333333333333335"
      ]
     },
     "execution_count": 24,
     "metadata": {},
     "output_type": "execute_result"
    }
   ],
   "source": [
    "200/60"
   ]
  },
  {
   "cell_type": "markdown",
   "id": "dfef79c4-476f-4f27-bc67-7c6337d58ced",
   "metadata": {},
   "source": [
    "## Jesse Manao Author"
   ]
  }
 ],
 "metadata": {
  "kernelspec": {
   "display_name": "Python [conda env:base] *",
   "language": "python",
   "name": "conda-base-py"
  },
  "language_info": {
   "codemirror_mode": {
    "name": "ipython",
    "version": 3
   },
   "file_extension": ".py",
   "mimetype": "text/x-python",
   "name": "python",
   "nbconvert_exporter": "python",
   "pygments_lexer": "ipython3",
   "version": "3.12.7"
  }
 },
 "nbformat": 4,
 "nbformat_minor": 5
}
